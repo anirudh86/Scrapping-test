{
 "cells": [
  {
   "cell_type": "code",
   "execution_count": 5,
   "id": "cd93f51b",
   "metadata": {},
   "outputs": [
    {
     "name": "stdout",
     "output_type": "stream",
     "text": [
      "Requirement already satisfied: beautifulsoup4 in ./anaconda3/lib/python3.8/site-packages (4.9.3)\n",
      "Requirement already satisfied: soupsieve>1.2 in ./anaconda3/lib/python3.8/site-packages (from beautifulsoup4) (2.2.1)\n",
      "Note: you may need to restart the kernel to use updated packages.\n"
     ]
    }
   ],
   "source": [
    "pip install beautifulsoup4"
   ]
  },
  {
   "cell_type": "code",
   "execution_count": 6,
   "id": "10803f02",
   "metadata": {},
   "outputs": [
    {
     "name": "stdout",
     "output_type": "stream",
     "text": [
      "Requirement already satisfied: requests in ./anaconda3/lib/python3.8/site-packages (2.25.1)\n",
      "Requirement already satisfied: certifi>=2017.4.17 in ./anaconda3/lib/python3.8/site-packages (from requests) (2020.12.5)\n",
      "Requirement already satisfied: idna<3,>=2.5 in ./anaconda3/lib/python3.8/site-packages (from requests) (2.10)\n",
      "Requirement already satisfied: chardet<5,>=3.0.2 in ./anaconda3/lib/python3.8/site-packages (from requests) (4.0.0)\n",
      "Requirement already satisfied: urllib3<1.27,>=1.21.1 in ./anaconda3/lib/python3.8/site-packages (from requests) (1.26.4)\n",
      "Note: you may need to restart the kernel to use updated packages.\n"
     ]
    }
   ],
   "source": [
    "pip install requests"
   ]
  },
  {
   "cell_type": "code",
   "execution_count": 7,
   "id": "02610f5b",
   "metadata": {},
   "outputs": [],
   "source": [
    "import requests\n",
    "from bs4 import BeautifulSoup"
   ]
  },
  {
   "cell_type": "code",
   "execution_count": 8,
   "id": "12bcd3a5",
   "metadata": {},
   "outputs": [
    {
     "name": "stdout",
     "output_type": "stream",
     "text": [
      "Requirement already satisfied: selenium in ./anaconda3/lib/python3.8/site-packages (4.1.0)\n",
      "Requirement already satisfied: trio~=0.17 in ./anaconda3/lib/python3.8/site-packages (from selenium) (0.19.0)\n",
      "Requirement already satisfied: urllib3[secure]~=1.26 in ./anaconda3/lib/python3.8/site-packages (from selenium) (1.26.4)\n",
      "Requirement already satisfied: trio-websocket~=0.9 in ./anaconda3/lib/python3.8/site-packages (from selenium) (0.9.2)\n",
      "Requirement already satisfied: outcome in ./anaconda3/lib/python3.8/site-packages (from trio~=0.17->selenium) (1.1.0)\n",
      "Requirement already satisfied: sniffio in ./anaconda3/lib/python3.8/site-packages (from trio~=0.17->selenium) (1.2.0)\n",
      "Requirement already satisfied: attrs>=19.2.0 in ./anaconda3/lib/python3.8/site-packages (from trio~=0.17->selenium) (20.3.0)\n",
      "Requirement already satisfied: sortedcontainers in ./anaconda3/lib/python3.8/site-packages (from trio~=0.17->selenium) (2.3.0)\n",
      "Requirement already satisfied: idna in ./anaconda3/lib/python3.8/site-packages (from trio~=0.17->selenium) (2.10)\n",
      "Requirement already satisfied: async-generator>=1.9 in ./anaconda3/lib/python3.8/site-packages (from trio~=0.17->selenium) (1.10)\n",
      "Requirement already satisfied: wsproto>=0.14 in ./anaconda3/lib/python3.8/site-packages (from trio-websocket~=0.9->selenium) (1.0.0)\n",
      "Requirement already satisfied: pyOpenSSL>=0.14 in ./anaconda3/lib/python3.8/site-packages (from urllib3[secure]~=1.26->selenium) (20.0.1)\n",
      "Requirement already satisfied: certifi in ./anaconda3/lib/python3.8/site-packages (from urllib3[secure]~=1.26->selenium) (2020.12.5)\n",
      "Requirement already satisfied: cryptography>=1.3.4 in ./anaconda3/lib/python3.8/site-packages (from urllib3[secure]~=1.26->selenium) (3.4.7)\n",
      "Requirement already satisfied: cffi>=1.12 in ./anaconda3/lib/python3.8/site-packages (from cryptography>=1.3.4->urllib3[secure]~=1.26->selenium) (1.14.5)\n",
      "Requirement already satisfied: pycparser in ./anaconda3/lib/python3.8/site-packages (from cffi>=1.12->cryptography>=1.3.4->urllib3[secure]~=1.26->selenium) (2.20)\n",
      "Requirement already satisfied: six>=1.5.2 in ./anaconda3/lib/python3.8/site-packages (from pyOpenSSL>=0.14->urllib3[secure]~=1.26->selenium) (1.15.0)\n",
      "Requirement already satisfied: h11<1,>=0.9.0 in ./anaconda3/lib/python3.8/site-packages (from wsproto>=0.14->trio-websocket~=0.9->selenium) (0.13.0)\n",
      "Note: you may need to restart the kernel to use updated packages.\n"
     ]
    }
   ],
   "source": [
    "pip install selenium"
   ]
  },
  {
   "cell_type": "code",
   "execution_count": 9,
   "id": "02461220",
   "metadata": {},
   "outputs": [],
   "source": [
    "from selenium import webdriver"
   ]
  },
  {
   "cell_type": "code",
   "execution_count": 24,
   "id": "d61abdb0",
   "metadata": {},
   "outputs": [],
   "source": [
    "car_lst=soup.find_all(class_=\"list\")"
   ]
  },
  {
   "cell_type": "code",
   "execution_count": 11,
   "id": "02270886",
   "metadata": {},
   "outputs": [
    {
     "name": "stderr",
     "output_type": "stream",
     "text": [
      "<ipython-input-11-3acfc2836ebd>:1: DeprecationWarning: executable_path has been deprecated, please pass in a Service object\n",
      "  driver = webdriver.Chrome(executable_path=r\"/home/anirudh110/Downloads/chromedriver_linux64/chromedriver\")\n"
     ]
    }
   ],
   "source": [
    "driver = webdriver.Chrome(executable_path=r\"/home/anirudh110/Downloads/chromedriver_linux64/chromedriver\")\n",
    "\n",
    "driver.get(\"https://www.goauto.ca/inventory/search\")\n",
    "with open('page.html', 'w+') as f:\n",
    "    f.write(driver.page_source)\n",
    "    f.close()\n",
    "driver.close()\n",
    "with open(\"page.html\") as fp:\n",
    "    soup = BeautifulSoup(fp)"
   ]
  },
  {
   "cell_type": "markdown",
   "id": "8986fea8",
   "metadata": {},
   "source": [
    "#### The requirement is just to scrap the first page description of the vehicles but i have scrapped the 2nd page description aswell "
   ]
  },
  {
   "cell_type": "code",
   "execution_count": 32,
   "id": "0c5c79b5",
   "metadata": {
    "scrolled": true
   },
   "outputs": [
    {
     "name": "stderr",
     "output_type": "stream",
     "text": [
      "<ipython-input-32-d44d176c2d0a>:9: DeprecationWarning: executable_path has been deprecated, please pass in a Service object\n",
      "  driver = webdriver.Chrome(executable_path=r\"/home/anirudh110/Downloads/chromedriver_linux64/chromedriver\")\n"
     ]
    },
    {
     "name": "stdout",
     "output_type": "stream",
     "text": [
      "https://www.gotoauto.ca/inventory/view/14862358/2015-Audi-A4-Komfort-plus-S-line-Quattro-Sedan---Parking-sensors|Leather|Heated-seats|Sunroof\n",
      "\n",
      "The Accord 1.5T comes with 1.5-litre turbocharged four cylinder engine which develops 192 horsepower and 181 lb-ft of torque and comes paired to a CVT transmission with sport mode. Equipped with Honda sensing suite of safety and driver-asssitance features.Loaded with remote engine start, multi-angle rearview camera with guidelines, lanewatch blind-spot camera system, collision mitigation braking system (CMBS), road departure mitigation system (RDM), lane-keeping assist system (LKAS), traffic sign recognition (TSR), driver attention monitor, leather seats, power sunroof, power windows, power heated side mirror with integrated LED turn signals, power adjustabe seats with driver's memory and lumbar support, front & rear heated seats, power locks/Smart entry with push button start, dual-zone automatic climate control, adaptive cruise control (ACC) with low-speed follow, tilt/telescopic multi-function heated leather-wrapped steering wheel, CD player with 450-watt premium audio system with 10 speakers including subwoofer and steering audio controls, USB/SiriusXM/Bluetooth connectivity, 8.0-inch touchscreen display audio system with Apple CarPlay and Android Auto smartphone integration, garage door opener, auto-dimming rear-view mirror, LED low-beam headlights with auto on/off, LED daytime running lights, LED fog lights, LED brake lights and integrated LED light bars, newer tires, alloy rims, electronic parking brake with automatic brake hold, hill start assist, ABS brakes, traction and stability control. Local vehicle in mint condition, fuel-efficient, very reliable, recently serviced and priced to sell. Trades welcome, extended warranty and financing available. \n",
      "https://www.gotoauto.ca/inventory/view/14862358/2015-Audi-A4-Komfort-plus-S-line-Quattro-Sedan---Parking-sensors|Leather|Heated-seats|Sunroof\n",
      "\n",
      "The Accord 1.5T comes with 1.5-litre turbocharged four cylinder engine which develops 192 horsepower and 181 lb-ft of torque and comes paired to a CVT transmission with sport mode. Equipped with Honda sensing suite of safety and driver-asssitance features.Loaded with remote engine start, multi-angle rearview camera with guidelines, lanewatch blind-spot camera system, collision mitigation braking system (CMBS), road departure mitigation system (RDM), lane-keeping assist system (LKAS), traffic sign recognition (TSR), driver attention monitor, leather seats, power sunroof, power windows, power heated side mirror with integrated LED turn signals, power adjustabe seats with driver's memory and lumbar support, front & rear heated seats, power locks/Smart entry with push button start, dual-zone automatic climate control, adaptive cruise control (ACC) with low-speed follow, tilt/telescopic multi-function heated leather-wrapped steering wheel, CD player with 450-watt premium audio system with 10 speakers including subwoofer and steering audio controls, USB/SiriusXM/Bluetooth connectivity, 8.0-inch touchscreen display audio system with Apple CarPlay and Android Auto smartphone integration, garage door opener, auto-dimming rear-view mirror, LED low-beam headlights with auto on/off, LED daytime running lights, LED fog lights, LED brake lights and integrated LED light bars, newer tires, alloy rims, electronic parking brake with automatic brake hold, hill start assist, ABS brakes, traction and stability control. Local vehicle in mint condition, fuel-efficient, very reliable, recently serviced and priced to sell. Trades welcome, extended warranty and financing available. \n",
      "https://www.gotoauto.ca/inventory/view/15080026/2014-Audi-A5-Progressiv-Quattro-Coupe---Nav|Parking-sensors|Leather|Heated-seats|Sunroof|Bluetooth\n",
      "\n",
      "The Accord 1.5T comes with 1.5-litre turbocharged four cylinder engine which develops 192 horsepower and 181 lb-ft of torque and comes paired to a CVT transmission with sport mode. Equipped with Honda sensing suite of safety and driver-asssitance features.Loaded with remote engine start, multi-angle rearview camera with guidelines, lanewatch blind-spot camera system, collision mitigation braking system (CMBS), road departure mitigation system (RDM), lane-keeping assist system (LKAS), traffic sign recognition (TSR), driver attention monitor, leather seats, power sunroof, power windows, power heated side mirror with integrated LED turn signals, power adjustabe seats with driver's memory and lumbar support, front & rear heated seats, power locks/Smart entry with push button start, dual-zone automatic climate control, adaptive cruise control (ACC) with low-speed follow, tilt/telescopic multi-function heated leather-wrapped steering wheel, CD player with 450-watt premium audio system with 10 speakers including subwoofer and steering audio controls, USB/SiriusXM/Bluetooth connectivity, 8.0-inch touchscreen display audio system with Apple CarPlay and Android Auto smartphone integration, garage door opener, auto-dimming rear-view mirror, LED low-beam headlights with auto on/off, LED daytime running lights, LED fog lights, LED brake lights and integrated LED light bars, newer tires, alloy rims, electronic parking brake with automatic brake hold, hill start assist, ABS brakes, traction and stability control. Local vehicle in mint condition, fuel-efficient, very reliable, recently serviced and priced to sell. Trades welcome, extended warranty and financing available. \n",
      "https://www.gotoauto.ca/inventory/view/14936812/2017-Audi-Q5-Progressiv-Quattro-SUV---Parking-sensors|Leather|Heated-seats|Panoramic-roof|Bluetooth\n",
      "\n",
      "The Accord 1.5T comes with 1.5-litre turbocharged four cylinder engine which develops 192 horsepower and 181 lb-ft of torque and comes paired to a CVT transmission with sport mode. Equipped with Honda sensing suite of safety and driver-asssitance features.Loaded with remote engine start, multi-angle rearview camera with guidelines, lanewatch blind-spot camera system, collision mitigation braking system (CMBS), road departure mitigation system (RDM), lane-keeping assist system (LKAS), traffic sign recognition (TSR), driver attention monitor, leather seats, power sunroof, power windows, power heated side mirror with integrated LED turn signals, power adjustabe seats with driver's memory and lumbar support, front & rear heated seats, power locks/Smart entry with push button start, dual-zone automatic climate control, adaptive cruise control (ACC) with low-speed follow, tilt/telescopic multi-function heated leather-wrapped steering wheel, CD player with 450-watt premium audio system with 10 speakers including subwoofer and steering audio controls, USB/SiriusXM/Bluetooth connectivity, 8.0-inch touchscreen display audio system with Apple CarPlay and Android Auto smartphone integration, garage door opener, auto-dimming rear-view mirror, LED low-beam headlights with auto on/off, LED daytime running lights, LED fog lights, LED brake lights and integrated LED light bars, newer tires, alloy rims, electronic parking brake with automatic brake hold, hill start assist, ABS brakes, traction and stability control. Local vehicle in mint condition, fuel-efficient, very reliable, recently serviced and priced to sell. Trades welcome, extended warranty and financing available. \n",
      "https://www.gotoauto.ca/inventory/view/14867223/2012-Audi-S4-Prestige-Quattro-Sedan---Nav|Camera|Parking-sensors|Blind-spot-assist|B&O-Sound|Low-kms\n",
      "\n",
      "The Accord 1.5T comes with 1.5-litre turbocharged four cylinder engine which develops 192 horsepower and 181 lb-ft of torque and comes paired to a CVT transmission with sport mode. Equipped with Honda sensing suite of safety and driver-asssitance features.Loaded with remote engine start, multi-angle rearview camera with guidelines, lanewatch blind-spot camera system, collision mitigation braking system (CMBS), road departure mitigation system (RDM), lane-keeping assist system (LKAS), traffic sign recognition (TSR), driver attention monitor, leather seats, power sunroof, power windows, power heated side mirror with integrated LED turn signals, power adjustabe seats with driver's memory and lumbar support, front & rear heated seats, power locks/Smart entry with push button start, dual-zone automatic climate control, adaptive cruise control (ACC) with low-speed follow, tilt/telescopic multi-function heated leather-wrapped steering wheel, CD player with 450-watt premium audio system with 10 speakers including subwoofer and steering audio controls, USB/SiriusXM/Bluetooth connectivity, 8.0-inch touchscreen display audio system with Apple CarPlay and Android Auto smartphone integration, garage door opener, auto-dimming rear-view mirror, LED low-beam headlights with auto on/off, LED daytime running lights, LED fog lights, LED brake lights and integrated LED light bars, newer tires, alloy rims, electronic parking brake with automatic brake hold, hill start assist, ABS brakes, traction and stability control. Local vehicle in mint condition, fuel-efficient, very reliable, recently serviced and priced to sell. Trades welcome, extended warranty and financing available. \n",
      "https://www.gotoauto.ca/inventory/view/14648546/2014-Audi-S5-Technik-Quattro-Coupe---Nav|Camera|Parking-sensors|Blind-spot-assist|B&O-Sound|Low-kms!\n"
     ]
    },
    {
     "name": "stdout",
     "output_type": "stream",
     "text": [
      "\n",
      "The Accord 1.5T comes with 1.5-litre turbocharged four cylinder engine which develops 192 horsepower and 181 lb-ft of torque and comes paired to a CVT transmission with sport mode. Equipped with Honda sensing suite of safety and driver-asssitance features.Loaded with remote engine start, multi-angle rearview camera with guidelines, lanewatch blind-spot camera system, collision mitigation braking system (CMBS), road departure mitigation system (RDM), lane-keeping assist system (LKAS), traffic sign recognition (TSR), driver attention monitor, leather seats, power sunroof, power windows, power heated side mirror with integrated LED turn signals, power adjustabe seats with driver's memory and lumbar support, front & rear heated seats, power locks/Smart entry with push button start, dual-zone automatic climate control, adaptive cruise control (ACC) with low-speed follow, tilt/telescopic multi-function heated leather-wrapped steering wheel, CD player with 450-watt premium audio system with 10 speakers including subwoofer and steering audio controls, USB/SiriusXM/Bluetooth connectivity, 8.0-inch touchscreen display audio system with Apple CarPlay and Android Auto smartphone integration, garage door opener, auto-dimming rear-view mirror, LED low-beam headlights with auto on/off, LED daytime running lights, LED fog lights, LED brake lights and integrated LED light bars, newer tires, alloy rims, electronic parking brake with automatic brake hold, hill start assist, ABS brakes, traction and stability control. Local vehicle in mint condition, fuel-efficient, very reliable, recently serviced and priced to sell. Trades welcome, extended warranty and financing available. \n",
      "https://www.gotoauto.ca/inventory/view/14964627/2014-Audi-S6-Quattro-Sedan---Nav|360-Camera|Blind-spot|Night-vision|Head-up-display|Adaptive-cruise\n",
      "\n",
      "The Accord 1.5T comes with 1.5-litre turbocharged four cylinder engine which develops 192 horsepower and 181 lb-ft of torque and comes paired to a CVT transmission with sport mode. Equipped with Honda sensing suite of safety and driver-asssitance features.Loaded with remote engine start, multi-angle rearview camera with guidelines, lanewatch blind-spot camera system, collision mitigation braking system (CMBS), road departure mitigation system (RDM), lane-keeping assist system (LKAS), traffic sign recognition (TSR), driver attention monitor, leather seats, power sunroof, power windows, power heated side mirror with integrated LED turn signals, power adjustabe seats with driver's memory and lumbar support, front & rear heated seats, power locks/Smart entry with push button start, dual-zone automatic climate control, adaptive cruise control (ACC) with low-speed follow, tilt/telescopic multi-function heated leather-wrapped steering wheel, CD player with 450-watt premium audio system with 10 speakers including subwoofer and steering audio controls, USB/SiriusXM/Bluetooth connectivity, 8.0-inch touchscreen display audio system with Apple CarPlay and Android Auto smartphone integration, garage door opener, auto-dimming rear-view mirror, LED low-beam headlights with auto on/off, LED daytime running lights, LED fog lights, LED brake lights and integrated LED light bars, newer tires, alloy rims, electronic parking brake with automatic brake hold, hill start assist, ABS brakes, traction and stability control. Local vehicle in mint condition, fuel-efficient, very reliable, recently serviced and priced to sell. Trades welcome, extended warranty and financing available. \n",
      "https://www.gotoauto.ca/inventory/view/14870281/2013-Audi-S7-Sportback-Quattro---Navigation|Camera|Parking-sensors|Blind-spot-assist|Adaptive-cruise\n",
      "\n",
      "The Accord 1.5T comes with 1.5-litre turbocharged four cylinder engine which develops 192 horsepower and 181 lb-ft of torque and comes paired to a CVT transmission with sport mode. Equipped with Honda sensing suite of safety and driver-asssitance features.Loaded with remote engine start, multi-angle rearview camera with guidelines, lanewatch blind-spot camera system, collision mitigation braking system (CMBS), road departure mitigation system (RDM), lane-keeping assist system (LKAS), traffic sign recognition (TSR), driver attention monitor, leather seats, power sunroof, power windows, power heated side mirror with integrated LED turn signals, power adjustabe seats with driver's memory and lumbar support, front & rear heated seats, power locks/Smart entry with push button start, dual-zone automatic climate control, adaptive cruise control (ACC) with low-speed follow, tilt/telescopic multi-function heated leather-wrapped steering wheel, CD player with 450-watt premium audio system with 10 speakers including subwoofer and steering audio controls, USB/SiriusXM/Bluetooth connectivity, 8.0-inch touchscreen display audio system with Apple CarPlay and Android Auto smartphone integration, garage door opener, auto-dimming rear-view mirror, LED low-beam headlights with auto on/off, LED daytime running lights, LED fog lights, LED brake lights and integrated LED light bars, newer tires, alloy rims, electronic parking brake with automatic brake hold, hill start assist, ABS brakes, traction and stability control. Local vehicle in mint condition, fuel-efficient, very reliable, recently serviced and priced to sell. Trades welcome, extended warranty and financing available. \n",
      "https://www.gotoauto.ca/inventory/view/14648826/2018-BMW-3-Series-330i-xDrive-Sedan---Navigation|Rear-view-camera|Leather|Heated-seats|Low-kms!!\n",
      "\n",
      "The Accord 1.5T comes with 1.5-litre turbocharged four cylinder engine which develops 192 horsepower and 181 lb-ft of torque and comes paired to a CVT transmission with sport mode. Equipped with Honda sensing suite of safety and driver-asssitance features.Loaded with remote engine start, multi-angle rearview camera with guidelines, lanewatch blind-spot camera system, collision mitigation braking system (CMBS), road departure mitigation system (RDM), lane-keeping assist system (LKAS), traffic sign recognition (TSR), driver attention monitor, leather seats, power sunroof, power windows, power heated side mirror with integrated LED turn signals, power adjustabe seats with driver's memory and lumbar support, front & rear heated seats, power locks/Smart entry with push button start, dual-zone automatic climate control, adaptive cruise control (ACC) with low-speed follow, tilt/telescopic multi-function heated leather-wrapped steering wheel, CD player with 450-watt premium audio system with 10 speakers including subwoofer and steering audio controls, USB/SiriusXM/Bluetooth connectivity, 8.0-inch touchscreen display audio system with Apple CarPlay and Android Auto smartphone integration, garage door opener, auto-dimming rear-view mirror, LED low-beam headlights with auto on/off, LED daytime running lights, LED fog lights, LED brake lights and integrated LED light bars, newer tires, alloy rims, electronic parking brake with automatic brake hold, hill start assist, ABS brakes, traction and stability control. Local vehicle in mint condition, fuel-efficient, very reliable, recently serviced and priced to sell. Trades welcome, extended warranty and financing available. \n",
      "https://www.gotoauto.ca/inventory/view/14831977/2015-BMW-3-Series-335i-xDrive-M-Sport-Sedan--Nav|Camera|Parking-sensors|Leather|Heated-seats|Sunroof\n",
      "\n",
      "The Accord 1.5T comes with 1.5-litre turbocharged four cylinder engine which develops 192 horsepower and 181 lb-ft of torque and comes paired to a CVT transmission with sport mode. Equipped with Honda sensing suite of safety and driver-asssitance features.Loaded with remote engine start, multi-angle rearview camera with guidelines, lanewatch blind-spot camera system, collision mitigation braking system (CMBS), road departure mitigation system (RDM), lane-keeping assist system (LKAS), traffic sign recognition (TSR), driver attention monitor, leather seats, power sunroof, power windows, power heated side mirror with integrated LED turn signals, power adjustabe seats with driver's memory and lumbar support, front & rear heated seats, power locks/Smart entry with push button start, dual-zone automatic climate control, adaptive cruise control (ACC) with low-speed follow, tilt/telescopic multi-function heated leather-wrapped steering wheel, CD player with 450-watt premium audio system with 10 speakers including subwoofer and steering audio controls, USB/SiriusXM/Bluetooth connectivity, 8.0-inch touchscreen display audio system with Apple CarPlay and Android Auto smartphone integration, garage door opener, auto-dimming rear-view mirror, LED low-beam headlights with auto on/off, LED daytime running lights, LED fog lights, LED brake lights and integrated LED light bars, newer tires, alloy rims, electronic parking brake with automatic brake hold, hill start assist, ABS brakes, traction and stability control. Local vehicle in mint condition, fuel-efficient, very reliable, recently serviced and priced to sell. Trades welcome, extended warranty and financing available. \n",
      "https://www.gotoauto.ca/inventory/view/15050523/2013-BMW-3-Series-328i-xDrive-Luxury-line-Sedan---Nav|Camera|Parking-sensors|Leather|Heated-seats\n"
     ]
    },
    {
     "name": "stdout",
     "output_type": "stream",
     "text": [
      "\n",
      "The Accord 1.5T comes with 1.5-litre turbocharged four cylinder engine which develops 192 horsepower and 181 lb-ft of torque and comes paired to a CVT transmission with sport mode. Equipped with Honda sensing suite of safety and driver-asssitance features.Loaded with remote engine start, multi-angle rearview camera with guidelines, lanewatch blind-spot camera system, collision mitigation braking system (CMBS), road departure mitigation system (RDM), lane-keeping assist system (LKAS), traffic sign recognition (TSR), driver attention monitor, leather seats, power sunroof, power windows, power heated side mirror with integrated LED turn signals, power adjustabe seats with driver's memory and lumbar support, front & rear heated seats, power locks/Smart entry with push button start, dual-zone automatic climate control, adaptive cruise control (ACC) with low-speed follow, tilt/telescopic multi-function heated leather-wrapped steering wheel, CD player with 450-watt premium audio system with 10 speakers including subwoofer and steering audio controls, USB/SiriusXM/Bluetooth connectivity, 8.0-inch touchscreen display audio system with Apple CarPlay and Android Auto smartphone integration, garage door opener, auto-dimming rear-view mirror, LED low-beam headlights with auto on/off, LED daytime running lights, LED fog lights, LED brake lights and integrated LED light bars, newer tires, alloy rims, electronic parking brake with automatic brake hold, hill start assist, ABS brakes, traction and stability control. Local vehicle in mint condition, fuel-efficient, very reliable, recently serviced and priced to sell. Trades welcome, extended warranty and financing available. \n",
      "https://www.gotoauto.ca/inventory/view/14964630/2015-BMW-4-Series-435i-xDrive-Gran-Coupe---Nav|Camera|Lane-assist|Head-up-display|Harman/Kardon\n",
      "\n",
      "The Accord 1.5T comes with 1.5-litre turbocharged four cylinder engine which develops 192 horsepower and 181 lb-ft of torque and comes paired to a CVT transmission with sport mode. Equipped with Honda sensing suite of safety and driver-asssitance features.Loaded with remote engine start, multi-angle rearview camera with guidelines, lanewatch blind-spot camera system, collision mitigation braking system (CMBS), road departure mitigation system (RDM), lane-keeping assist system (LKAS), traffic sign recognition (TSR), driver attention monitor, leather seats, power sunroof, power windows, power heated side mirror with integrated LED turn signals, power adjustabe seats with driver's memory and lumbar support, front & rear heated seats, power locks/Smart entry with push button start, dual-zone automatic climate control, adaptive cruise control (ACC) with low-speed follow, tilt/telescopic multi-function heated leather-wrapped steering wheel, CD player with 450-watt premium audio system with 10 speakers including subwoofer and steering audio controls, USB/SiriusXM/Bluetooth connectivity, 8.0-inch touchscreen display audio system with Apple CarPlay and Android Auto smartphone integration, garage door opener, auto-dimming rear-view mirror, LED low-beam headlights with auto on/off, LED daytime running lights, LED fog lights, LED brake lights and integrated LED light bars, newer tires, alloy rims, electronic parking brake with automatic brake hold, hill start assist, ABS brakes, traction and stability control. Local vehicle in mint condition, fuel-efficient, very reliable, recently serviced and priced to sell. Trades welcome, extended warranty and financing available. \n",
      "https://www.gotoauto.ca/inventory/view/14593256/2013-BMW-7-Series-750Li-xDrive-M-Sport-Sedan---Nav|Camera|Blind-spot/Lane-assist|Head-up-display\n",
      "\n",
      "The Accord 1.5T comes with 1.5-litre turbocharged four cylinder engine which develops 192 horsepower and 181 lb-ft of torque and comes paired to a CVT transmission with sport mode. Equipped with Honda sensing suite of safety and driver-asssitance features.Loaded with remote engine start, multi-angle rearview camera with guidelines, lanewatch blind-spot camera system, collision mitigation braking system (CMBS), road departure mitigation system (RDM), lane-keeping assist system (LKAS), traffic sign recognition (TSR), driver attention monitor, leather seats, power sunroof, power windows, power heated side mirror with integrated LED turn signals, power adjustabe seats with driver's memory and lumbar support, front & rear heated seats, power locks/Smart entry with push button start, dual-zone automatic climate control, adaptive cruise control (ACC) with low-speed follow, tilt/telescopic multi-function heated leather-wrapped steering wheel, CD player with 450-watt premium audio system with 10 speakers including subwoofer and steering audio controls, USB/SiriusXM/Bluetooth connectivity, 8.0-inch touchscreen display audio system with Apple CarPlay and Android Auto smartphone integration, garage door opener, auto-dimming rear-view mirror, LED low-beam headlights with auto on/off, LED daytime running lights, LED fog lights, LED brake lights and integrated LED light bars, newer tires, alloy rims, electronic parking brake with automatic brake hold, hill start assist, ABS brakes, traction and stability control. Local vehicle in mint condition, fuel-efficient, very reliable, recently serviced and priced to sell. Trades welcome, extended warranty and financing available. \n",
      "https://www.gotoauto.ca/inventory/view/15227310/2012-BMW-X1-xDrive28i-SUV---Navigation|Leather|Heated-seats|Panoramic-roof|Bluetooth\n",
      "\n",
      "The Accord 1.5T comes with 1.5-litre turbocharged four cylinder engine which develops 192 horsepower and 181 lb-ft of torque and comes paired to a CVT transmission with sport mode. Equipped with Honda sensing suite of safety and driver-asssitance features.Loaded with remote engine start, multi-angle rearview camera with guidelines, lanewatch blind-spot camera system, collision mitigation braking system (CMBS), road departure mitigation system (RDM), lane-keeping assist system (LKAS), traffic sign recognition (TSR), driver attention monitor, leather seats, power sunroof, power windows, power heated side mirror with integrated LED turn signals, power adjustabe seats with driver's memory and lumbar support, front & rear heated seats, power locks/Smart entry with push button start, dual-zone automatic climate control, adaptive cruise control (ACC) with low-speed follow, tilt/telescopic multi-function heated leather-wrapped steering wheel, CD player with 450-watt premium audio system with 10 speakers including subwoofer and steering audio controls, USB/SiriusXM/Bluetooth connectivity, 8.0-inch touchscreen display audio system with Apple CarPlay and Android Auto smartphone integration, garage door opener, auto-dimming rear-view mirror, LED low-beam headlights with auto on/off, LED daytime running lights, LED fog lights, LED brake lights and integrated LED light bars, newer tires, alloy rims, electronic parking brake with automatic brake hold, hill start assist, ABS brakes, traction and stability control. Local vehicle in mint condition, fuel-efficient, very reliable, recently serviced and priced to sell. Trades welcome, extended warranty and financing available. \n",
      "https://www.gotoauto.ca/inventory/view/14886339/2017-BMW-X4-xDrive28i-SUV---Nav|360-Camera|Blind-spot/Lane-assist|Head-up-display|Leather|Heated-sea\n",
      "\n",
      "The Accord 1.5T comes with 1.5-litre turbocharged four cylinder engine which develops 192 horsepower and 181 lb-ft of torque and comes paired to a CVT transmission with sport mode. Equipped with Honda sensing suite of safety and driver-asssitance features.Loaded with remote engine start, multi-angle rearview camera with guidelines, lanewatch blind-spot camera system, collision mitigation braking system (CMBS), road departure mitigation system (RDM), lane-keeping assist system (LKAS), traffic sign recognition (TSR), driver attention monitor, leather seats, power sunroof, power windows, power heated side mirror with integrated LED turn signals, power adjustabe seats with driver's memory and lumbar support, front & rear heated seats, power locks/Smart entry with push button start, dual-zone automatic climate control, adaptive cruise control (ACC) with low-speed follow, tilt/telescopic multi-function heated leather-wrapped steering wheel, CD player with 450-watt premium audio system with 10 speakers including subwoofer and steering audio controls, USB/SiriusXM/Bluetooth connectivity, 8.0-inch touchscreen display audio system with Apple CarPlay and Android Auto smartphone integration, garage door opener, auto-dimming rear-view mirror, LED low-beam headlights with auto on/off, LED daytime running lights, LED fog lights, LED brake lights and integrated LED light bars, newer tires, alloy rims, electronic parking brake with automatic brake hold, hill start assist, ABS brakes, traction and stability control. Local vehicle in mint condition, fuel-efficient, very reliable, recently serviced and priced to sell. Trades welcome, extended warranty and financing available. \n",
      "https://www.gotoauto.ca/inventory/view/15036426/2018-Honda-Accord-EX-L-Sedan---Camera|Lane-assist|Adaptive-cruise|Leather|Heated-seats|Sunroof\n"
     ]
    },
    {
     "name": "stdout",
     "output_type": "stream",
     "text": [
      "\n",
      "The Accord 1.5T comes with 1.5-litre turbocharged four cylinder engine which develops 192 horsepower and 181 lb-ft of torque and comes paired to a CVT transmission with sport mode. Equipped with Honda sensing suite of safety and driver-asssitance features.Loaded with remote engine start, multi-angle rearview camera with guidelines, lanewatch blind-spot camera system, collision mitigation braking system (CMBS), road departure mitigation system (RDM), lane-keeping assist system (LKAS), traffic sign recognition (TSR), driver attention monitor, leather seats, power sunroof, power windows, power heated side mirror with integrated LED turn signals, power adjustabe seats with driver's memory and lumbar support, front & rear heated seats, power locks/Smart entry with push button start, dual-zone automatic climate control, adaptive cruise control (ACC) with low-speed follow, tilt/telescopic multi-function heated leather-wrapped steering wheel, CD player with 450-watt premium audio system with 10 speakers including subwoofer and steering audio controls, USB/SiriusXM/Bluetooth connectivity, 8.0-inch touchscreen display audio system with Apple CarPlay and Android Auto smartphone integration, garage door opener, auto-dimming rear-view mirror, LED low-beam headlights with auto on/off, LED daytime running lights, LED fog lights, LED brake lights and integrated LED light bars, newer tires, alloy rims, electronic parking brake with automatic brake hold, hill start assist, ABS brakes, traction and stability control. Local vehicle in mint condition, fuel-efficient, very reliable, recently serviced and priced to sell. Trades welcome, extended warranty and financing available. \n",
      "https://www.gotoauto.ca/inventory/view/14862358/2015-Audi-A4-Komfort-plus-S-line-Quattro-Sedan---Parking-sensors|Leather|Heated-seats|Sunroof\n",
      "\n",
      "The Accord 1.5T comes with 1.5-litre turbocharged four cylinder engine which develops 192 horsepower and 181 lb-ft of torque and comes paired to a CVT transmission with sport mode. Equipped with Honda sensing suite of safety and driver-asssitance features.Loaded with remote engine start, multi-angle rearview camera with guidelines, lanewatch blind-spot camera system, collision mitigation braking system (CMBS), road departure mitigation system (RDM), lane-keeping assist system (LKAS), traffic sign recognition (TSR), driver attention monitor, leather seats, power sunroof, power windows, power heated side mirror with integrated LED turn signals, power adjustabe seats with driver's memory and lumbar support, front & rear heated seats, power locks/Smart entry with push button start, dual-zone automatic climate control, adaptive cruise control (ACC) with low-speed follow, tilt/telescopic multi-function heated leather-wrapped steering wheel, CD player with 450-watt premium audio system with 10 speakers including subwoofer and steering audio controls, USB/SiriusXM/Bluetooth connectivity, 8.0-inch touchscreen display audio system with Apple CarPlay and Android Auto smartphone integration, garage door opener, auto-dimming rear-view mirror, LED low-beam headlights with auto on/off, LED daytime running lights, LED fog lights, LED brake lights and integrated LED light bars, newer tires, alloy rims, electronic parking brake with automatic brake hold, hill start assist, ABS brakes, traction and stability control. Local vehicle in mint condition, fuel-efficient, very reliable, recently serviced and priced to sell. Trades welcome, extended warranty and financing available. \n",
      "https://www.gotoauto.ca/inventory/view/14862358/2015-Audi-A4-Komfort-plus-S-line-Quattro-Sedan---Parking-sensors|Leather|Heated-seats|Sunroof\n",
      "\n",
      "The Accord 1.5T comes with 1.5-litre turbocharged four cylinder engine which develops 192 horsepower and 181 lb-ft of torque and comes paired to a CVT transmission with sport mode. Equipped with Honda sensing suite of safety and driver-asssitance features.Loaded with remote engine start, multi-angle rearview camera with guidelines, lanewatch blind-spot camera system, collision mitigation braking system (CMBS), road departure mitigation system (RDM), lane-keeping assist system (LKAS), traffic sign recognition (TSR), driver attention monitor, leather seats, power sunroof, power windows, power heated side mirror with integrated LED turn signals, power adjustabe seats with driver's memory and lumbar support, front & rear heated seats, power locks/Smart entry with push button start, dual-zone automatic climate control, adaptive cruise control (ACC) with low-speed follow, tilt/telescopic multi-function heated leather-wrapped steering wheel, CD player with 450-watt premium audio system with 10 speakers including subwoofer and steering audio controls, USB/SiriusXM/Bluetooth connectivity, 8.0-inch touchscreen display audio system with Apple CarPlay and Android Auto smartphone integration, garage door opener, auto-dimming rear-view mirror, LED low-beam headlights with auto on/off, LED daytime running lights, LED fog lights, LED brake lights and integrated LED light bars, newer tires, alloy rims, electronic parking brake with automatic brake hold, hill start assist, ABS brakes, traction and stability control. Local vehicle in mint condition, fuel-efficient, very reliable, recently serviced and priced to sell. Trades welcome, extended warranty and financing available. \n",
      "https://www.gotoauto.ca/inventory/view/15080026/2014-Audi-A5-Progressiv-Quattro-Coupe---Nav|Parking-sensors|Leather|Heated-seats|Sunroof|Bluetooth\n",
      "\n",
      "The Accord 1.5T comes with 1.5-litre turbocharged four cylinder engine which develops 192 horsepower and 181 lb-ft of torque and comes paired to a CVT transmission with sport mode. Equipped with Honda sensing suite of safety and driver-asssitance features.Loaded with remote engine start, multi-angle rearview camera with guidelines, lanewatch blind-spot camera system, collision mitigation braking system (CMBS), road departure mitigation system (RDM), lane-keeping assist system (LKAS), traffic sign recognition (TSR), driver attention monitor, leather seats, power sunroof, power windows, power heated side mirror with integrated LED turn signals, power adjustabe seats with driver's memory and lumbar support, front & rear heated seats, power locks/Smart entry with push button start, dual-zone automatic climate control, adaptive cruise control (ACC) with low-speed follow, tilt/telescopic multi-function heated leather-wrapped steering wheel, CD player with 450-watt premium audio system with 10 speakers including subwoofer and steering audio controls, USB/SiriusXM/Bluetooth connectivity, 8.0-inch touchscreen display audio system with Apple CarPlay and Android Auto smartphone integration, garage door opener, auto-dimming rear-view mirror, LED low-beam headlights with auto on/off, LED daytime running lights, LED fog lights, LED brake lights and integrated LED light bars, newer tires, alloy rims, electronic parking brake with automatic brake hold, hill start assist, ABS brakes, traction and stability control. Local vehicle in mint condition, fuel-efficient, very reliable, recently serviced and priced to sell. Trades welcome, extended warranty and financing available. \n",
      "https://www.gotoauto.ca/inventory/view/14936812/2017-Audi-Q5-Progressiv-Quattro-SUV---Parking-sensors|Leather|Heated-seats|Panoramic-roof|Bluetooth\n",
      "\n",
      "The Accord 1.5T comes with 1.5-litre turbocharged four cylinder engine which develops 192 horsepower and 181 lb-ft of torque and comes paired to a CVT transmission with sport mode. Equipped with Honda sensing suite of safety and driver-asssitance features.Loaded with remote engine start, multi-angle rearview camera with guidelines, lanewatch blind-spot camera system, collision mitigation braking system (CMBS), road departure mitigation system (RDM), lane-keeping assist system (LKAS), traffic sign recognition (TSR), driver attention monitor, leather seats, power sunroof, power windows, power heated side mirror with integrated LED turn signals, power adjustabe seats with driver's memory and lumbar support, front & rear heated seats, power locks/Smart entry with push button start, dual-zone automatic climate control, adaptive cruise control (ACC) with low-speed follow, tilt/telescopic multi-function heated leather-wrapped steering wheel, CD player with 450-watt premium audio system with 10 speakers including subwoofer and steering audio controls, USB/SiriusXM/Bluetooth connectivity, 8.0-inch touchscreen display audio system with Apple CarPlay and Android Auto smartphone integration, garage door opener, auto-dimming rear-view mirror, LED low-beam headlights with auto on/off, LED daytime running lights, LED fog lights, LED brake lights and integrated LED light bars, newer tires, alloy rims, electronic parking brake with automatic brake hold, hill start assist, ABS brakes, traction and stability control. Local vehicle in mint condition, fuel-efficient, very reliable, recently serviced and priced to sell. Trades welcome, extended warranty and financing available. \n",
      "https://www.gotoauto.ca/inventory/view/14867223/2012-Audi-S4-Prestige-Quattro-Sedan---Nav|Camera|Parking-sensors|Blind-spot-assist|B&O-Sound|Low-kms\n"
     ]
    },
    {
     "name": "stdout",
     "output_type": "stream",
     "text": [
      "\n",
      "The Accord 1.5T comes with 1.5-litre turbocharged four cylinder engine which develops 192 horsepower and 181 lb-ft of torque and comes paired to a CVT transmission with sport mode. Equipped with Honda sensing suite of safety and driver-asssitance features.Loaded with remote engine start, multi-angle rearview camera with guidelines, lanewatch blind-spot camera system, collision mitigation braking system (CMBS), road departure mitigation system (RDM), lane-keeping assist system (LKAS), traffic sign recognition (TSR), driver attention monitor, leather seats, power sunroof, power windows, power heated side mirror with integrated LED turn signals, power adjustabe seats with driver's memory and lumbar support, front & rear heated seats, power locks/Smart entry with push button start, dual-zone automatic climate control, adaptive cruise control (ACC) with low-speed follow, tilt/telescopic multi-function heated leather-wrapped steering wheel, CD player with 450-watt premium audio system with 10 speakers including subwoofer and steering audio controls, USB/SiriusXM/Bluetooth connectivity, 8.0-inch touchscreen display audio system with Apple CarPlay and Android Auto smartphone integration, garage door opener, auto-dimming rear-view mirror, LED low-beam headlights with auto on/off, LED daytime running lights, LED fog lights, LED brake lights and integrated LED light bars, newer tires, alloy rims, electronic parking brake with automatic brake hold, hill start assist, ABS brakes, traction and stability control. Local vehicle in mint condition, fuel-efficient, very reliable, recently serviced and priced to sell. Trades welcome, extended warranty and financing available. \n",
      "https://www.gotoauto.ca/inventory/view/14648546/2014-Audi-S5-Technik-Quattro-Coupe---Nav|Camera|Parking-sensors|Blind-spot-assist|B&O-Sound|Low-kms!\n",
      "\n",
      "The Accord 1.5T comes with 1.5-litre turbocharged four cylinder engine which develops 192 horsepower and 181 lb-ft of torque and comes paired to a CVT transmission with sport mode. Equipped with Honda sensing suite of safety and driver-asssitance features.Loaded with remote engine start, multi-angle rearview camera with guidelines, lanewatch blind-spot camera system, collision mitigation braking system (CMBS), road departure mitigation system (RDM), lane-keeping assist system (LKAS), traffic sign recognition (TSR), driver attention monitor, leather seats, power sunroof, power windows, power heated side mirror with integrated LED turn signals, power adjustabe seats with driver's memory and lumbar support, front & rear heated seats, power locks/Smart entry with push button start, dual-zone automatic climate control, adaptive cruise control (ACC) with low-speed follow, tilt/telescopic multi-function heated leather-wrapped steering wheel, CD player with 450-watt premium audio system with 10 speakers including subwoofer and steering audio controls, USB/SiriusXM/Bluetooth connectivity, 8.0-inch touchscreen display audio system with Apple CarPlay and Android Auto smartphone integration, garage door opener, auto-dimming rear-view mirror, LED low-beam headlights with auto on/off, LED daytime running lights, LED fog lights, LED brake lights and integrated LED light bars, newer tires, alloy rims, electronic parking brake with automatic brake hold, hill start assist, ABS brakes, traction and stability control. Local vehicle in mint condition, fuel-efficient, very reliable, recently serviced and priced to sell. Trades welcome, extended warranty and financing available. \n",
      "https://www.gotoauto.ca/inventory/view/14964627/2014-Audi-S6-Quattro-Sedan---Nav|360-Camera|Blind-spot|Night-vision|Head-up-display|Adaptive-cruise\n",
      "\n",
      "The Accord 1.5T comes with 1.5-litre turbocharged four cylinder engine which develops 192 horsepower and 181 lb-ft of torque and comes paired to a CVT transmission with sport mode. Equipped with Honda sensing suite of safety and driver-asssitance features.Loaded with remote engine start, multi-angle rearview camera with guidelines, lanewatch blind-spot camera system, collision mitigation braking system (CMBS), road departure mitigation system (RDM), lane-keeping assist system (LKAS), traffic sign recognition (TSR), driver attention monitor, leather seats, power sunroof, power windows, power heated side mirror with integrated LED turn signals, power adjustabe seats with driver's memory and lumbar support, front & rear heated seats, power locks/Smart entry with push button start, dual-zone automatic climate control, adaptive cruise control (ACC) with low-speed follow, tilt/telescopic multi-function heated leather-wrapped steering wheel, CD player with 450-watt premium audio system with 10 speakers including subwoofer and steering audio controls, USB/SiriusXM/Bluetooth connectivity, 8.0-inch touchscreen display audio system with Apple CarPlay and Android Auto smartphone integration, garage door opener, auto-dimming rear-view mirror, LED low-beam headlights with auto on/off, LED daytime running lights, LED fog lights, LED brake lights and integrated LED light bars, newer tires, alloy rims, electronic parking brake with automatic brake hold, hill start assist, ABS brakes, traction and stability control. Local vehicle in mint condition, fuel-efficient, very reliable, recently serviced and priced to sell. Trades welcome, extended warranty and financing available. \n",
      "https://www.gotoauto.ca/inventory/view/14870281/2013-Audi-S7-Sportback-Quattro---Navigation|Camera|Parking-sensors|Blind-spot-assist|Adaptive-cruise\n",
      "\n",
      "The Accord 1.5T comes with 1.5-litre turbocharged four cylinder engine which develops 192 horsepower and 181 lb-ft of torque and comes paired to a CVT transmission with sport mode. Equipped with Honda sensing suite of safety and driver-asssitance features.Loaded with remote engine start, multi-angle rearview camera with guidelines, lanewatch blind-spot camera system, collision mitigation braking system (CMBS), road departure mitigation system (RDM), lane-keeping assist system (LKAS), traffic sign recognition (TSR), driver attention monitor, leather seats, power sunroof, power windows, power heated side mirror with integrated LED turn signals, power adjustabe seats with driver's memory and lumbar support, front & rear heated seats, power locks/Smart entry with push button start, dual-zone automatic climate control, adaptive cruise control (ACC) with low-speed follow, tilt/telescopic multi-function heated leather-wrapped steering wheel, CD player with 450-watt premium audio system with 10 speakers including subwoofer and steering audio controls, USB/SiriusXM/Bluetooth connectivity, 8.0-inch touchscreen display audio system with Apple CarPlay and Android Auto smartphone integration, garage door opener, auto-dimming rear-view mirror, LED low-beam headlights with auto on/off, LED daytime running lights, LED fog lights, LED brake lights and integrated LED light bars, newer tires, alloy rims, electronic parking brake with automatic brake hold, hill start assist, ABS brakes, traction and stability control. Local vehicle in mint condition, fuel-efficient, very reliable, recently serviced and priced to sell. Trades welcome, extended warranty and financing available. \n",
      "https://www.gotoauto.ca/inventory/view/14648826/2018-BMW-3-Series-330i-xDrive-Sedan---Navigation|Rear-view-camera|Leather|Heated-seats|Low-kms!!\n",
      "\n",
      "The Accord 1.5T comes with 1.5-litre turbocharged four cylinder engine which develops 192 horsepower and 181 lb-ft of torque and comes paired to a CVT transmission with sport mode. Equipped with Honda sensing suite of safety and driver-asssitance features.Loaded with remote engine start, multi-angle rearview camera with guidelines, lanewatch blind-spot camera system, collision mitigation braking system (CMBS), road departure mitigation system (RDM), lane-keeping assist system (LKAS), traffic sign recognition (TSR), driver attention monitor, leather seats, power sunroof, power windows, power heated side mirror with integrated LED turn signals, power adjustabe seats with driver's memory and lumbar support, front & rear heated seats, power locks/Smart entry with push button start, dual-zone automatic climate control, adaptive cruise control (ACC) with low-speed follow, tilt/telescopic multi-function heated leather-wrapped steering wheel, CD player with 450-watt premium audio system with 10 speakers including subwoofer and steering audio controls, USB/SiriusXM/Bluetooth connectivity, 8.0-inch touchscreen display audio system with Apple CarPlay and Android Auto smartphone integration, garage door opener, auto-dimming rear-view mirror, LED low-beam headlights with auto on/off, LED daytime running lights, LED fog lights, LED brake lights and integrated LED light bars, newer tires, alloy rims, electronic parking brake with automatic brake hold, hill start assist, ABS brakes, traction and stability control. Local vehicle in mint condition, fuel-efficient, very reliable, recently serviced and priced to sell. Trades welcome, extended warranty and financing available. \n",
      "https://www.gotoauto.ca/inventory/view/14831977/2015-BMW-3-Series-335i-xDrive-M-Sport-Sedan--Nav|Camera|Parking-sensors|Leather|Heated-seats|Sunroof\n"
     ]
    },
    {
     "name": "stdout",
     "output_type": "stream",
     "text": [
      "\n",
      "The Accord 1.5T comes with 1.5-litre turbocharged four cylinder engine which develops 192 horsepower and 181 lb-ft of torque and comes paired to a CVT transmission with sport mode. Equipped with Honda sensing suite of safety and driver-asssitance features.Loaded with remote engine start, multi-angle rearview camera with guidelines, lanewatch blind-spot camera system, collision mitigation braking system (CMBS), road departure mitigation system (RDM), lane-keeping assist system (LKAS), traffic sign recognition (TSR), driver attention monitor, leather seats, power sunroof, power windows, power heated side mirror with integrated LED turn signals, power adjustabe seats with driver's memory and lumbar support, front & rear heated seats, power locks/Smart entry with push button start, dual-zone automatic climate control, adaptive cruise control (ACC) with low-speed follow, tilt/telescopic multi-function heated leather-wrapped steering wheel, CD player with 450-watt premium audio system with 10 speakers including subwoofer and steering audio controls, USB/SiriusXM/Bluetooth connectivity, 8.0-inch touchscreen display audio system with Apple CarPlay and Android Auto smartphone integration, garage door opener, auto-dimming rear-view mirror, LED low-beam headlights with auto on/off, LED daytime running lights, LED fog lights, LED brake lights and integrated LED light bars, newer tires, alloy rims, electronic parking brake with automatic brake hold, hill start assist, ABS brakes, traction and stability control. Local vehicle in mint condition, fuel-efficient, very reliable, recently serviced and priced to sell. Trades welcome, extended warranty and financing available. \n",
      "https://www.gotoauto.ca/inventory/view/15050523/2013-BMW-3-Series-328i-xDrive-Luxury-line-Sedan---Nav|Camera|Parking-sensors|Leather|Heated-seats\n",
      "\n",
      "The Accord 1.5T comes with 1.5-litre turbocharged four cylinder engine which develops 192 horsepower and 181 lb-ft of torque and comes paired to a CVT transmission with sport mode. Equipped with Honda sensing suite of safety and driver-asssitance features.Loaded with remote engine start, multi-angle rearview camera with guidelines, lanewatch blind-spot camera system, collision mitigation braking system (CMBS), road departure mitigation system (RDM), lane-keeping assist system (LKAS), traffic sign recognition (TSR), driver attention monitor, leather seats, power sunroof, power windows, power heated side mirror with integrated LED turn signals, power adjustabe seats with driver's memory and lumbar support, front & rear heated seats, power locks/Smart entry with push button start, dual-zone automatic climate control, adaptive cruise control (ACC) with low-speed follow, tilt/telescopic multi-function heated leather-wrapped steering wheel, CD player with 450-watt premium audio system with 10 speakers including subwoofer and steering audio controls, USB/SiriusXM/Bluetooth connectivity, 8.0-inch touchscreen display audio system with Apple CarPlay and Android Auto smartphone integration, garage door opener, auto-dimming rear-view mirror, LED low-beam headlights with auto on/off, LED daytime running lights, LED fog lights, LED brake lights and integrated LED light bars, newer tires, alloy rims, electronic parking brake with automatic brake hold, hill start assist, ABS brakes, traction and stability control. Local vehicle in mint condition, fuel-efficient, very reliable, recently serviced and priced to sell. Trades welcome, extended warranty and financing available. \n",
      "https://www.gotoauto.ca/inventory/view/14964630/2015-BMW-4-Series-435i-xDrive-Gran-Coupe---Nav|Camera|Lane-assist|Head-up-display|Harman/Kardon\n",
      "\n",
      "The Accord 1.5T comes with 1.5-litre turbocharged four cylinder engine which develops 192 horsepower and 181 lb-ft of torque and comes paired to a CVT transmission with sport mode. Equipped with Honda sensing suite of safety and driver-asssitance features.Loaded with remote engine start, multi-angle rearview camera with guidelines, lanewatch blind-spot camera system, collision mitigation braking system (CMBS), road departure mitigation system (RDM), lane-keeping assist system (LKAS), traffic sign recognition (TSR), driver attention monitor, leather seats, power sunroof, power windows, power heated side mirror with integrated LED turn signals, power adjustabe seats with driver's memory and lumbar support, front & rear heated seats, power locks/Smart entry with push button start, dual-zone automatic climate control, adaptive cruise control (ACC) with low-speed follow, tilt/telescopic multi-function heated leather-wrapped steering wheel, CD player with 450-watt premium audio system with 10 speakers including subwoofer and steering audio controls, USB/SiriusXM/Bluetooth connectivity, 8.0-inch touchscreen display audio system with Apple CarPlay and Android Auto smartphone integration, garage door opener, auto-dimming rear-view mirror, LED low-beam headlights with auto on/off, LED daytime running lights, LED fog lights, LED brake lights and integrated LED light bars, newer tires, alloy rims, electronic parking brake with automatic brake hold, hill start assist, ABS brakes, traction and stability control. Local vehicle in mint condition, fuel-efficient, very reliable, recently serviced and priced to sell. Trades welcome, extended warranty and financing available. \n",
      "https://www.gotoauto.ca/inventory/view/14593256/2013-BMW-7-Series-750Li-xDrive-M-Sport-Sedan---Nav|Camera|Blind-spot/Lane-assist|Head-up-display\n",
      "\n",
      "The Accord 1.5T comes with 1.5-litre turbocharged four cylinder engine which develops 192 horsepower and 181 lb-ft of torque and comes paired to a CVT transmission with sport mode. Equipped with Honda sensing suite of safety and driver-asssitance features.Loaded with remote engine start, multi-angle rearview camera with guidelines, lanewatch blind-spot camera system, collision mitigation braking system (CMBS), road departure mitigation system (RDM), lane-keeping assist system (LKAS), traffic sign recognition (TSR), driver attention monitor, leather seats, power sunroof, power windows, power heated side mirror with integrated LED turn signals, power adjustabe seats with driver's memory and lumbar support, front & rear heated seats, power locks/Smart entry with push button start, dual-zone automatic climate control, adaptive cruise control (ACC) with low-speed follow, tilt/telescopic multi-function heated leather-wrapped steering wheel, CD player with 450-watt premium audio system with 10 speakers including subwoofer and steering audio controls, USB/SiriusXM/Bluetooth connectivity, 8.0-inch touchscreen display audio system with Apple CarPlay and Android Auto smartphone integration, garage door opener, auto-dimming rear-view mirror, LED low-beam headlights with auto on/off, LED daytime running lights, LED fog lights, LED brake lights and integrated LED light bars, newer tires, alloy rims, electronic parking brake with automatic brake hold, hill start assist, ABS brakes, traction and stability control. Local vehicle in mint condition, fuel-efficient, very reliable, recently serviced and priced to sell. Trades welcome, extended warranty and financing available. \n",
      "https://www.gotoauto.ca/inventory/view/15227310/2012-BMW-X1-xDrive28i-SUV---Navigation|Leather|Heated-seats|Panoramic-roof|Bluetooth\n",
      "\n",
      "The Accord 1.5T comes with 1.5-litre turbocharged four cylinder engine which develops 192 horsepower and 181 lb-ft of torque and comes paired to a CVT transmission with sport mode. Equipped with Honda sensing suite of safety and driver-asssitance features.Loaded with remote engine start, multi-angle rearview camera with guidelines, lanewatch blind-spot camera system, collision mitigation braking system (CMBS), road departure mitigation system (RDM), lane-keeping assist system (LKAS), traffic sign recognition (TSR), driver attention monitor, leather seats, power sunroof, power windows, power heated side mirror with integrated LED turn signals, power adjustabe seats with driver's memory and lumbar support, front & rear heated seats, power locks/Smart entry with push button start, dual-zone automatic climate control, adaptive cruise control (ACC) with low-speed follow, tilt/telescopic multi-function heated leather-wrapped steering wheel, CD player with 450-watt premium audio system with 10 speakers including subwoofer and steering audio controls, USB/SiriusXM/Bluetooth connectivity, 8.0-inch touchscreen display audio system with Apple CarPlay and Android Auto smartphone integration, garage door opener, auto-dimming rear-view mirror, LED low-beam headlights with auto on/off, LED daytime running lights, LED fog lights, LED brake lights and integrated LED light bars, newer tires, alloy rims, electronic parking brake with automatic brake hold, hill start assist, ABS brakes, traction and stability control. Local vehicle in mint condition, fuel-efficient, very reliable, recently serviced and priced to sell. Trades welcome, extended warranty and financing available. \n",
      "https://www.gotoauto.ca/inventory/view/14886339/2017-BMW-X4-xDrive28i-SUV---Nav|360-Camera|Blind-spot/Lane-assist|Head-up-display|Leather|Heated-sea\n"
     ]
    },
    {
     "name": "stdout",
     "output_type": "stream",
     "text": [
      "\n",
      "The Accord 1.5T comes with 1.5-litre turbocharged four cylinder engine which develops 192 horsepower and 181 lb-ft of torque and comes paired to a CVT transmission with sport mode. Equipped with Honda sensing suite of safety and driver-asssitance features.Loaded with remote engine start, multi-angle rearview camera with guidelines, lanewatch blind-spot camera system, collision mitigation braking system (CMBS), road departure mitigation system (RDM), lane-keeping assist system (LKAS), traffic sign recognition (TSR), driver attention monitor, leather seats, power sunroof, power windows, power heated side mirror with integrated LED turn signals, power adjustabe seats with driver's memory and lumbar support, front & rear heated seats, power locks/Smart entry with push button start, dual-zone automatic climate control, adaptive cruise control (ACC) with low-speed follow, tilt/telescopic multi-function heated leather-wrapped steering wheel, CD player with 450-watt premium audio system with 10 speakers including subwoofer and steering audio controls, USB/SiriusXM/Bluetooth connectivity, 8.0-inch touchscreen display audio system with Apple CarPlay and Android Auto smartphone integration, garage door opener, auto-dimming rear-view mirror, LED low-beam headlights with auto on/off, LED daytime running lights, LED fog lights, LED brake lights and integrated LED light bars, newer tires, alloy rims, electronic parking brake with automatic brake hold, hill start assist, ABS brakes, traction and stability control. Local vehicle in mint condition, fuel-efficient, very reliable, recently serviced and priced to sell. Trades welcome, extended warranty and financing available. \n",
      "https://www.gotoauto.ca/inventory/view/15036426/2018-Honda-Accord-EX-L-Sedan---Camera|Lane-assist|Adaptive-cruise|Leather|Heated-seats|Sunroof\n",
      "\n",
      "The Accord 1.5T comes with 1.5-litre turbocharged four cylinder engine which develops 192 horsepower and 181 lb-ft of torque and comes paired to a CVT transmission with sport mode. Equipped with Honda sensing suite of safety and driver-asssitance features.Loaded with remote engine start, multi-angle rearview camera with guidelines, lanewatch blind-spot camera system, collision mitigation braking system (CMBS), road departure mitigation system (RDM), lane-keeping assist system (LKAS), traffic sign recognition (TSR), driver attention monitor, leather seats, power sunroof, power windows, power heated side mirror with integrated LED turn signals, power adjustabe seats with driver's memory and lumbar support, front & rear heated seats, power locks/Smart entry with push button start, dual-zone automatic climate control, adaptive cruise control (ACC) with low-speed follow, tilt/telescopic multi-function heated leather-wrapped steering wheel, CD player with 450-watt premium audio system with 10 speakers including subwoofer and steering audio controls, USB/SiriusXM/Bluetooth connectivity, 8.0-inch touchscreen display audio system with Apple CarPlay and Android Auto smartphone integration, garage door opener, auto-dimming rear-view mirror, LED low-beam headlights with auto on/off, LED daytime running lights, LED fog lights, LED brake lights and integrated LED light bars, newer tires, alloy rims, electronic parking brake with automatic brake hold, hill start assist, ABS brakes, traction and stability control. Local vehicle in mint condition, fuel-efficient, very reliable, recently serviced and priced to sell. Trades welcome, extended warranty and financing available. \n"
     ]
    }
   ],
   "source": [
    "from selenium import webdriver\n",
    "\n",
    "page_num =2\n",
    "car_name=[]\n",
    "price=[]\n",
    "des=[]\n",
    "\n",
    "for current_page in range(1,page_num+1):\n",
    "    driver = webdriver.Chrome(executable_path=r\"/home/anirudh110/Downloads/chromedriver_linux64/chromedriver\")\n",
    "\n",
    "    driver.get('https://www.gotoauto.ca/inventory/?pg='+str(current_page))\n",
    "    htmlPage_num='page'+str(current_page)+'.html'\n",
    "    with open(htmlPage_num, 'w+') as f:\n",
    "        f.write(driver.page_source)\n",
    "        f.close()\n",
    "    driver.close()\n",
    "    with open(htmlPage_num) as fp:\n",
    "        soup = BeautifulSoup(fp)\n",
    "        \n",
    "    for i in car_lst:\n",
    "        car_name_val = i.find(\"h4\",attrs={'class':'name desc_l5'}).text\n",
    "        car_name_valDel = car_name_val.replace('\\t',\" \").replace('\\n',\" \")\n",
    "        final_carName = \" \".join(car_name_valDel.split())\n",
    "        \n",
    "        print(\"https://www.gotoauto.ca\"+ i.find(\"a\")['href'])\n",
    "        headers = {\"User-Agent\":\"Mozilla/5.0 (Windows NT 10.0; Win64; x64; rv:66.0) Gecko/20100101 Firefox/66.0\", \"Accept-Encoding\":\"gzip, deflate\", \"Accept\":\"text/html,application/xhtml+xml,application/xml;q=0.9,*/*;q=0.8\", \"DNT\":\"1\",\"Connection\":\"close\", \"Upgrade-Insecure-Requests\":\"1\"}\n",
    "        sub_content = requests.get(\"https://www.gotoauto.ca\"+ i.find(\"a\")['href'],headers=headers)\n",
    "        sub_soup = BeautifulSoup(subContent.content,'html.parser')\n",
    "        try:\n",
    "            description = sub_soup.find(class_='col col-12 note_desc_col finance_active').text\n",
    "            print(description)\n",
    "            text_file_name=car_name_val+ \".txt\"\n",
    "            with open(text_file_name, 'w+') as f:\n",
    "                f.write(description)\n",
    "                f.close()  \n",
    "        except:\n",
    "            pass"
   ]
  },
  {
   "cell_type": "code",
   "execution_count": null,
   "id": "d225c09b",
   "metadata": {},
   "outputs": [],
   "source": []
  }
 ],
 "metadata": {
  "kernelspec": {
   "display_name": "Python 3",
   "language": "python",
   "name": "python3"
  },
  "language_info": {
   "codemirror_mode": {
    "name": "ipython",
    "version": 3
   },
   "file_extension": ".py",
   "mimetype": "text/x-python",
   "name": "python",
   "nbconvert_exporter": "python",
   "pygments_lexer": "ipython3",
   "version": "3.8.8"
  }
 },
 "nbformat": 4,
 "nbformat_minor": 5
}
